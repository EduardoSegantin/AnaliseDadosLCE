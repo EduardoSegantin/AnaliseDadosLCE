{
 "nbformat": 4,
 "nbformat_minor": 0,
 "metadata": {
  "colab": {
   "name": "LCE.ipynb",
   "provenance": []
  },
  "kernelspec": {
   "name": "python3",
   "display_name": "Python 3"
  },
  "language_info": {
   "name": "python"
  }
 },
 "cells": [
  {
   "cell_type": "code",
   "metadata": {
    "id": "O3s8UwmAEh8h"
   },
   "source": [
    "import pandas as pd"
   ],
   "execution_count": null,
   "outputs": []
  },
  {
   "cell_type": "code",
   "source": [
    "import matplotlib.pyplot as plt"
   ],
   "metadata": {
    "id": "r4QaXGr4ZDBi"
   },
   "execution_count": null,
   "outputs": []
  },
  {
   "cell_type": "markdown",
   "metadata": {
    "id": "OazmiOvGTLZj"
   },
   "source": [
    "#Tabela 2015 - 2021"
   ]
  },
  {
   "cell_type": "code",
   "metadata": {
    "id": "9KYWCCr_Ey-1"
   },
   "source": [
    "#tabela completa 2015 à 2021\n",
    "df = pd.read_csv('/home/eduardo/Documents/Projetos/Análise_Usuários_LCE/LCE_2015-2021 - Página1.csv' , sep=';')\n",
    "df"
   ],
   "execution_count": null,
   "outputs": []
  },
  {
   "cell_type": "markdown",
   "metadata": {
    "id": "yT8LLQkdDQru"
   },
   "source": [
    "#Organizando o dataframe"
   ]
  },
  {
   "cell_type": "code",
   "metadata": {
    "id": "d3yXQd3z57QP"
   },
   "source": [
    "#convertendo data para o formato pandas\n",
    "df['Data']=pd.to_datetime(df['Data'])"
   ],
   "execution_count": null,
   "outputs": []
  },
  {
   "cell_type": "code",
   "metadata": {
    "id": "-ETKdJAuc2xA"
   },
   "source": [
    "#substituindo valores no dataset\n",
    "df = df.replace(['MICROSCOPIO OPTICO CONFOCAL OLYMPUS'],'CONFOCAL')\n",
    "df = df.replace(['MET TECNAI LaB6 - ASTAR'],'MET TECNAI LaB6')"
   ],
   "execution_count": null,
   "outputs": []
  },
  {
   "cell_type": "code",
   "metadata": {
    "id": "qGOXpdMqE_j1"
   },
   "source": [
    "#Localizando as exceções\n",
    "LCE = df.loc[df['Usuário Reserva'] == 'LCE'] \n",
    "Escola = df.loc[df['Usuário Reserva']=='ESCOLA DE MICROSCOPIA']\n",
    "Aula  = df.loc[df['Usuário Reserva']=='AULA']\n",
    "Treinamento = df.loc[df['Usuário Reserva']== 'TREINAMENTO']\n",
    "Indisponível = df.loc[df['Usuário Reserva']== 'INDISPONIVEL']"
   ],
   "execution_count": null,
   "outputs": []
  },
  {
   "cell_type": "code",
   "metadata": {
    "id": "m5lf0aFi_e5v"
   },
   "source": [
    "Indisponível_index = Indisponível.index\n",
    "LCE_index = LCE.index\n",
    "Escola_index = Escola.index\n",
    "Aula_index = Aula.index\n",
    "Treinamento_index = Treinamento.index \n",
    "Escola_index"
   ],
   "execution_count": null,
   "outputs": []
  },
  {
   "cell_type": "code",
   "metadata": {
    "id": "kW2qhNTm8Xzq"
   },
   "source": [
    "#excluindo as exceções\n",
    "df1 = df.drop(LCE_index)\n",
    "df2 = df1.drop(Escola_index)\n",
    "df3 = df2.drop(Aula_index)\n",
    "df4 = df3.drop(Treinamento_index)\n",
    "df5 = df4.drop(Indisponível_index)\n",
    "df6 = df5"
   ],
   "execution_count": null,
   "outputs": []
  },
  {
   "cell_type": "markdown",
   "metadata": {
    "id": "DI1Eqr9zM51B"
   },
   "source": [
    "#Selecione o período desejado:"
   ]
  },
  {
   "cell_type": "code",
   "metadata": {
    "id": "15QZIPbr_uqX"
   },
   "source": [
    "#Escolhendo o intervalo de datas a serem analisados\n",
    "start_date = input('Data inicial (ano-mes-dia) \\n')\n",
    "end_date = input('Data final (ano-mes-dia) \\n')\n",
    "mask = (df5['Data'] > start_date) & (df5['Data'] <= end_date)\n",
    "  \n",
    "df5 = df5.loc[mask]\n"
   ],
   "execution_count": null,
   "outputs": []
  },
  {
   "cell_type": "markdown",
   "metadata": {
    "id": "OsqcLlbtUUSM"
   },
   "source": [
    "# Tabela Completa (usuários e empresas)"
   ]
  },
  {
   "cell_type": "code",
   "metadata": {
    "id": "cYvMSR8kKUiC"
   },
   "source": [
    "#tabela sem as reservas LCE / aula / escola\n",
    "df5"
   ],
   "execution_count": null,
   "outputs": []
  },
  {
   "cell_type": "markdown",
   "metadata": {
    "id": "RptMDJWEFHb3"
   },
   "source": [
    "## Total de horas utilizadas durante o período"
   ]
  },
  {
   "cell_type": "code",
   "metadata": {
    "id": "eHpFnf0cFSyn"
   },
   "source": [
    "hrs_df5 = len(df5['Data'])\n",
    "print('No período de %s à %s, foram utilizadas %d horas de equipamentos'%(start_date,end_date,hrs_df5*2))\n"
   ],
   "execution_count": null,
   "outputs": []
  },
  {
   "cell_type": "markdown",
   "metadata": {
    "id": "BiggohJzS7Zr"
   },
   "source": [
    "# Número de usuários diferentes atendidos durante o período\n"
   ]
  },
  {
   "cell_type": "code",
   "metadata": {
    "id": "v8UUldPSTCB7"
   },
   "source": [
    "usr = df5.drop_duplicates(subset=['Usuário Reserva'])\n",
    "total_urs = len(usr.index)\n",
    "print('No período de %s à %s, foram atendidos %d usuários diferentes'%(start_date,end_date,total_urs))"
   ],
   "execution_count": null,
   "outputs": []
  },
  {
   "cell_type": "markdown",
   "metadata": {
    "id": "Qxq00hOj8qA3"
   },
   "source": [
    "# Utilização por usuário (%)"
   ]
  },
  {
   "cell_type": "code",
   "metadata": {
    "id": "0QkJd_u_Ih0R"
   },
   "source": [
    "df5['Usuário Reserva'].value_counts(normalize=True)*100"
   ],
   "execution_count": null,
   "outputs": []
  },
  {
   "cell_type": "markdown",
   "metadata": {
    "id": "BY2q0LVwI_x3"
   },
   "source": [
    "# Top 10 usuários (em horas)"
   ]
  },
  {
   "cell_type": "code",
   "metadata": {
    "id": "GN7b2YgsIamQ"
   },
   "source": [
    "x = df5['Usuário Reserva'].value_counts()*2\n",
    "x.head(10)"
   ],
   "execution_count": null,
   "outputs": []
  },
  {
   "cell_type": "markdown",
   "metadata": {
    "id": "pjMtV5XvPu8H"
   },
   "source": [
    "# Utilização por usuário (horas)"
   ]
  },
  {
   "cell_type": "code",
   "metadata": {
    "id": "mVVLTprvPzyK"
   },
   "source": [
    "df5['Usuário Reserva'].value_counts()*2"
   ],
   "execution_count": null,
   "outputs": []
  },
  {
   "cell_type": "markdown",
   "metadata": {
    "id": "nyuAxsHk8bfW"
   },
   "source": [
    "# Utilização por equipamento (%)"
   ]
  },
  {
   "cell_type": "code",
   "metadata": {
    "id": "mmuGQLv4di-j"
   },
   "source": [
    "df5['Equipamento'].value_counts(normalize=True)*100"
   ],
   "execution_count": null,
   "outputs": []
  },
  {
   "cell_type": "markdown",
   "metadata": {
    "id": "NvcAg0aQQUVH"
   },
   "source": [
    "# Utilização por equipamento (horas)"
   ]
  },
  {
   "cell_type": "code",
   "metadata": {
    "id": "844FX5aCQaLI"
   },
   "source": [
    "df5['Equipamento'].value_counts()*2 "
   ],
   "execution_count": null,
   "outputs": []
  },
  {
   "cell_type": "markdown",
   "metadata": {
    "id": "WehwdGqKJ72o"
   },
   "source": [
    "# Utilização por equipamento (%) - MEV"
   ]
  },
  {
   "cell_type": "code",
   "metadata": {
    "id": "vtSpFLdYGU4y"
   },
   "source": [
    "#criar tabela somente com MEVs\n",
    "feg = df5[df5['Equipamento']=='MEV XL30 FEG']\n",
    "tmp = df5[df5['Equipamento']=='MEV XL30 TMP']\n",
    "mag = df5[df5['Equipamento']=='MEV MAGELLAN']\n",
    "insp = df5[df5['Equipamento']=='MEV INSPECT EBSD']\n",
    "MEV = pd.concat([feg,tmp,mag,insp])\n",
    "MEV['Equipamento'].value_counts(normalize=True)*100\n",
    "\n"
   ],
   "execution_count": null,
   "outputs": []
  },
  {
   "cell_type": "markdown",
   "metadata": {
    "id": "0bztPrG1RN45"
   },
   "source": [
    "# Utilização por equipamento (%) - MET"
   ]
  },
  {
   "cell_type": "code",
   "metadata": {
    "id": "MJ4SfF1PRUhY"
   },
   "source": [
    "#criar tabela somente com METs\n",
    "tecnai_feg = df5[df5['Equipamento']=='MET TECNAI G2F20']\n",
    "tecnai_lab6 = df5[df5['Equipamento']=='MET TECNAI LaB6']\n",
    "CM120 = df5[df5['Equipamento']=='MET CM120']\n",
    "MET = pd.concat([tecnai_feg,tecnai_lab6,CM120])\n",
    "MET['Equipamento'].value_counts(normalize=True)*100"
   ],
   "execution_count": null,
   "outputs": []
  },
  {
   "cell_type": "markdown",
   "metadata": {
    "id": "Czq-j-FuSFBp"
   },
   "source": [
    "# INFORMAÇÕES ADCIONAIS\n",
    "## Período 2015 à 2021\n",
    "\n",
    "\n"
   ]
  },
  {
   "cell_type": "markdown",
   "metadata": {
    "id": "EOWGsjHcuTRB"
   },
   "source": [
    "## Total de usuários por equipamento"
   ]
  },
  {
   "cell_type": "markdown",
   "metadata": {
    "id": "mlevIZ-lWNNt"
   },
   "source": [
    "### MET TECNAI FEG"
   ]
  },
  {
   "cell_type": "code",
   "metadata": {
    "id": "3GP94G8PWSAe"
   },
   "source": [
    "tecnai_usr = df6[df6['Equipamento']=='MET TECNAI G2F20']\n",
    "print('Lista de usuátios: ',tecnai_usr['Usuário Reserva'].unique())\n",
    "print('Total de usuários: ',len(tecnai_usr['Usuário Reserva'].unique()))"
   ],
   "execution_count": null,
   "outputs": []
  },
  {
   "cell_type": "markdown",
   "metadata": {
    "id": "ymgB42z7-P3h"
   },
   "source": [
    "### MEV - Inspect"
   ]
  },
  {
   "cell_type": "code",
   "metadata": {
    "id": "yK2oM7Y7ukTI"
   },
   "source": [
    "insp_usr = df6[df6['Equipamento']=='MEV INSPECT EBSD']\n",
    "print('Lista de usuátios: ',insp_usr['Usuário Reserva'].unique())\n",
    "print('Total de usuários: ',len(insp_usr['Usuário Reserva'].unique()))\n"
   ],
   "execution_count": null,
   "outputs": []
  },
  {
   "cell_type": "markdown",
   "metadata": {
    "id": "hRXimb2e_qZ1"
   },
   "source": [
    "### MEV TMP"
   ]
  },
  {
   "cell_type": "code",
   "metadata": {
    "id": "HxMf5Nd4vKNS"
   },
   "source": [
    "tmp_usr = df6[df6['Equipamento']=='MEV XL30 TMP']\n",
    "print('Lista de usuátios: ',tmp_usr['Usuário Reserva'].unique())\n",
    "print('Total de usuários: ',len(tmp_usr['Usuário Reserva'].unique()))\n"
   ],
   "execution_count": null,
   "outputs": []
  },
  {
   "cell_type": "markdown",
   "metadata": {
    "id": "vYn0fXELV3qu"
   },
   "source": [
    "### MEV FEG"
   ]
  },
  {
   "cell_type": "code",
   "metadata": {
    "id": "YsGV3K-6wHIq"
   },
   "source": [
    "feg_usr = df6[df6['Equipamento']=='MEV XL30 FEG']\n",
    "print('Lista de usuátios: ',feg_usr['Usuário Reserva'].unique())\n",
    "print('Total de usuários: ',len(feg_usr['Usuário Reserva'].unique()))\n"
   ],
   "execution_count": null,
   "outputs": []
  },
  {
   "cell_type": "markdown",
   "metadata": {
    "id": "ZKJCQ-mAwTvR"
   },
   "source": [
    "### MEV Magellan"
   ]
  },
  {
   "cell_type": "code",
   "metadata": {
    "id": "OGAmdok9fwgt"
   },
   "source": [
    "mag_usr = df6[df6['Equipamento']=='MEV MAGELLAN']\n",
    "#mag.drop_duplicates(subset=['Usuário Reserva'], keep='last') #mostra a ultima reserva de cada usuário\n",
    "print('Lista de usuátios: ',mag_usr['Usuário Reserva'].unique())\n",
    "print('Total de usuários: ',len(mag_usr['Usuário Reserva'].unique()))\n",
    "\n"
   ],
   "execution_count": null,
   "outputs": []
  },
  {
   "cell_type": "markdown",
   "metadata": {
    "id": "Qf5qSNWDWpAz"
   },
   "source": [
    "# Horas utilizadas por equipamento"
   ]
  },
  {
   "cell_type": "code",
   "metadata": {
    "id": "BdaTMBjMWIEe"
   },
   "source": [
    "df6['Equipamento'].value_counts().sort_index().plot.bar(color=['orange','orange','blue','blue','blue','red','red','red','red'],rot=0)\n",
    "plt.xlabel('Equipamento', fontsize = 12)\n",
    "plt.ylabel('Horas', fontsize = 12)\n",
    "plt.title('Uso dos equipamentos LCE', fontsize = 18)\n",
    "plt.gcf().set_size_inches(18, 15) #altera tamanho \n",
    "plt.show()"
   ],
   "execution_count": null,
   "outputs": []
  }
 ]
}